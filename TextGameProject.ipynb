{
  "cells": [
    {
      "cell_type": "code",
      "execution_count": null,
      "metadata": {
        "colab": {
          "background_save": true,
          "base_uri": "https://localhost:8080/"
        },
        "id": "d3nHBgzgI3Uk",
        "outputId": "c51501d9-96aa-4854-8191-ce22315c2279"
      },
      "outputs": [
        {
          "output_type": "stream",
          "name": "stdout",
          "text": [
            "Welcome to the Adventure Game!\n",
            "you find yourself standing at the entrance of a dark forest.\n",
            "do you wish to enter the forest or leave?\n",
            "Enter 'forest' to go into the forest, or 'leave' to leave:forest\n",
            "You step into the forest, the trees loom tall above you.\n",
            "After a while, you see a fork in the road. Do you want to go left or right?\n"
          ]
        }
      ],
      "source": [
        "import time\n",
        "\n",
        "# Function to pause the game for dramatic effect\n",
        "def slow_print(text, delay=1):\n",
        "  for char in text:\n",
        "      print(char, end='',flush=True)\n",
        "      time.sleep(delay/100)\n",
        "\n",
        "  print()\n",
        "\n",
        "# Introduction\n",
        "def intro():\n",
        "    slow_print(\"Welcome to the Adventure Game!\", 50)\n",
        "    slow_print(\"you find yourself standing at the entrance of a dark forest.\")\n",
        "    slow_print(\"do you wish to enter the forest or leave?\")\n",
        "\n",
        "    choice = input(\"Enter 'forest' to go into the forest, or 'leave' to leave:\").lower()\n",
        "\n",
        "    if choice == \"forest\":\n",
        "        forest()\n",
        "    elif choice == \"leave\":\n",
        "        slow_print(\"you decided to leave. Game Over!\")\n",
        "    else:\n",
        "        slow_print(\"invalid input. Game Over!\")\n",
        "\n",
        "# The Forest\n",
        "def forest():\n",
        "    slow_print(\"You step into the forest, the trees loom tall above you.\")\n",
        "    slow_print(\"After a while, you see a fork in the road. Do you want to go left or right?\")\n",
        "\n",
        "    choice = input(\"Enter'left' or 'right':\").lower()\n",
        "\n",
        "    if choice == \"left\":\n",
        "         encounter_wolf()\n",
        "    elif choice == \"right\":\n",
        "        find_treasure()\n",
        "    else:\n",
        "        slow_print(\"Invalid choice. You stand still and get lost in the forest forever. Game Over!\")\n",
        "\n",
        "# Encounter with a Wolf\n",
        "def encounter_wolf():\n",
        "    slow_print(\"A wild wolf jumps out and blocks your path!\")\n",
        "    slow_print(\"Do you want to fight or run?\")\n",
        "\n",
        "    choice = input(\"Enter 'fight' or 'run':\").lower()\n",
        "\n",
        "    if choice == \"fight\":\n",
        "        slow_print(\"You barely fight the wolf and win! You continue your journey.\")\n",
        "        find_treasure()\n",
        "    elif choice == \"run\":\n",
        "        slow_print(\"you run away and get lost in the forest. Game Over!\")\n",
        "    else:\n",
        "        slow_print(\"Invalid choice. The wolf attacks you. Game Over!\")\n",
        "\n",
        "# Finding Treasure\n",
        "def find_treasure():\n",
        "    slow_print(\"You follow the path and find a hidden treasure chest!\")\n",
        "    slow_print(\"Congradulations, you've won the game!\")\n",
        "\n",
        "    choice = input(\"Do you want to play again? Enter 'yes' or 'no':\").lower()\n",
        "    if choice == \"yes\":\n",
        "        intro()\n",
        "    else:\n",
        "        slow_print(\"Thanks for Playing!\")\n",
        "\n",
        "\n",
        "# Start The Game\n",
        "intro() # Changed the indentation to align with other top-level code"
      ]
    }
  ],
  "metadata": {
    "colab": {
      "provenance": [],
      "authorship_tag": "ABX9TyM+gx2qKLc8Tbe8uteTe+/Y"
    },
    "kernelspec": {
      "display_name": "Python 3",
      "name": "python3"
    },
    "language_info": {
      "name": "python"
    }
  },
  "nbformat": 4,
  "nbformat_minor": 0
}